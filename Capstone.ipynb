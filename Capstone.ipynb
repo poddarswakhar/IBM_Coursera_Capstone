{
    "cells": [
        {
            "metadata": {
                "collapsed": true
            },
            "cell_type": "markdown",
            "source": "<img src=\"https://upload.wikimedia.org/wikipedia/commons/5/51/IBM_logo.svg\" alt=\"IBM Logo\" width=\"100\" height=\"100\" style=\"float:left\"> \n<br>\n<br>\n<h1> IBM Capstone Project Notebook</h>"
        },
        {
            "metadata": {},
            "cell_type": "markdown",
            "source": "<h2> This Notebook is for Capstone of IBM's Data Science Professional Certification.</h2>"
        },
        {
            "metadata": {},
            "cell_type": "markdown",
            "source": "<p> Author for this Notebook is <a href = 'https://www.linkedin.com/in/poddarswakhar/'>Swakhar Poddar.</a>"
        },
        {
            "metadata": {},
            "cell_type": "code",
            "source": "import pandas as pd\nimport numpy as np",
            "execution_count": 5,
            "outputs": []
        },
        {
            "metadata": {},
            "cell_type": "code",
            "source": "print(\"Hello Capstone Project Course!\")",
            "execution_count": 6,
            "outputs": [
                {
                    "output_type": "stream",
                    "text": "Hello Capstone Project Course!\n",
                    "name": "stdout"
                }
            ]
        },
        {
            "metadata": {},
            "cell_type": "code",
            "source": "",
            "execution_count": null,
            "outputs": []
        }
    ],
    "metadata": {
        "kernelspec": {
            "name": "python3",
            "display_name": "Python 3.6",
            "language": "python"
        },
        "language_info": {
            "name": "python",
            "version": "3.6.9",
            "mimetype": "text/x-python",
            "codemirror_mode": {
                "name": "ipython",
                "version": 3
            },
            "pygments_lexer": "ipython3",
            "nbconvert_exporter": "python",
            "file_extension": ".py"
        }
    },
    "nbformat": 4,
    "nbformat_minor": 1
}